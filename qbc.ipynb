{
 "cells": [
  {
   "cell_type": "code",
   "execution_count": 3,
   "metadata": {
    "colab": {
     "base_uri": "https://localhost:8080/",
     "height": 510
    },
    "colab_type": "code",
    "id": "bTRE9bgcDawa",
    "outputId": "efb8ac4f-aa6c-4475-934c-0cb1d9dbb514"
   },
   "outputs": [
    {
     "name": "stdout",
     "output_type": "stream",
     "text": [
      "0.4 elu mape <tensorflow.python.keras.optimizer_v2.rmsprop.RMSprop object at 0x000001E002F95B48> 0.001 100\n"
     ]
    }
   ],
   "source": [
    "import tensorflow as tf\n",
    "from tensorflow.keras.layers import Input\n",
    "from tensorflow.keras.utils import plot_model\n",
    "from tensorflow.keras.models import Sequential\n",
    "from sklearn.model_selection import train_test_split\n",
    "from tensorflow.keras.layers import Dense, Dropout, Activation, Flatten, TimeDistributed, multiply, Lambda, InputLayer\n",
    "from tensorflow.keras.layers import LSTM, GRU, LeakyReLU, BatchNormalization, ReLU, concatenate, Masking, Permute, Reshape\n",
    "from tensorflow.keras.layers import Conv1D, Conv2D, MaxPooling1D, RepeatVector,Bidirectional, GlobalAveragePooling1D\n",
    "from tensorflow.keras.callbacks import ModelCheckpoint, ReduceLROnPlateau, CSVLogger, EarlyStopping\n",
    "from tensorflow.keras import regularizers\n",
    "from tensorflow.keras.layers import BatchNormalization\n",
    "from tensorflow.keras.optimizers import RMSprop, Adam, SGD, Nadam\n",
    "from tensorflow.keras.initializers import *\n",
    "from tensorflow.keras import Model\n",
    "import numpy as np\n",
    "import pandas as pd\n",
    "from sklearn.metrics import r2_score\n",
    "import seaborn as sns\n",
    "import matplotlib.pyplot as plt\n",
    "plt.style.use(\"ggplot\")\n",
    "%matplotlib inline\n",
    "\n",
    "np.random.seed(73) \n",
    "def getmodel(n1, dp1, ac, opt, los, learn):\n",
    "  mcdp = True\n",
    "  \n",
    "  if ac == 1:\n",
    "    ac = 'relu'\n",
    "  elif ac ==2:\n",
    "    ac = 'selu'\n",
    "  else: \n",
    "    ac = 'elu'\n",
    "\n",
    "  if los ==1:\n",
    "    loss = 'mse'\n",
    "  elif los ==2:\n",
    "    loss = 'mae'\n",
    "  else: \n",
    "    loss = 'mape'\n",
    "  \n",
    "  if opt == 1:\n",
    "    opt = Adam(lr=learn)\n",
    "  elif opt == 2:\n",
    "    opt = Nadam(lr=learn)\n",
    "  else: \n",
    "    opt = RMSprop(lr = learn)\n",
    "  input = Input(shape=(14,))\n",
    "  dense = Dense(n1, activation=ac)(input)\n",
    "  dense = Dropout(dp1)(dense, training=mcdp)\n",
    "  dense = Dense(n1,activation=ac)(dense)\n",
    "  dense = Dropout(dp1)(dense, training=mcdp)\n",
    "  dense = Dense(n1,activation=ac)(dense)\n",
    "  dense = Dropout(dp1)(dense, training=mcdp)\n",
    "  output1 = Dense(1, activation='linear')(dense)\n",
    "\n",
    "  model = Model(inputs= input, outputs=output1)\n",
    "  #plot_model(model, to_file='model_plot.png', show_shapes=True, show_layer_names=True)\n",
    "\n",
    "  #model.summary()\n",
    "  print(dp1, ac, loss, opt, learn, n1)\n",
    "  model.compile(optimizer=opt, loss=loss)\n",
    "  return model \n",
    "\n",
    "MO = getmodel(100, 0.4, 3,3,3,1e-3)\n"
   ]
  },
  {
   "cell_type": "code",
   "execution_count": 4,
   "metadata": {
    "colab": {
     "base_uri": "https://localhost:8080/",
     "height": 34
    },
    "colab_type": "code",
    "id": "GYyfHtWHNB5u",
    "outputId": "ea958572-b05c-4039-f48b-c3733b88d6c8"
   },
   "outputs": [
    {
     "name": "stdout",
     "output_type": "stream",
     "text": [
      "(1220307, 15)\n"
     ]
    }
   ],
   "source": [
    "def remove_outlier(df_in, col_name):\n",
    "  q1 = df_in[col_name].quantile(0.15)\n",
    "  q3 = df_in[col_name].quantile(0.85)\n",
    "  iqr = q3-q1 \n",
    "  fence_low  = q1-1.5*iqr\n",
    "  fence_high = q3+1.5*iqr\n",
    "  df_out = df_in.loc[(df_in[col_name] > fence_low) & (df_in[col_name] < fence_high)]\n",
    "  return df_out\n",
    "\n",
    "df = pd.read_csv('ropaxdata.csv', sep=',')\n",
    "namarr = ['target','fuelDensity.csv','fuelTemp.csv','inclinometer-raw.csv', 'longitudinalWaterSpeed.csv','level1median.csv','level2median.csv', 'portPitch.csv', 'portRudder.csv','speedKnots.csv','starboardPitch.csv', 'starboardRudder.csv','trueHeading.csv', 'windAngle.csv', 'windSpeed.csv']\n",
    "df.dropna(inplace=True)\n",
    "df = df[namarr]\n",
    "#print(df.isnull().sum())\n",
    "\n",
    "for nam in namarr: \n",
    "  df = remove_outlier(df,nam)\n",
    "print(df.shape)\n",
    "df = df.sample(frac=0.5, replace=False, random_state=42, axis=0)\n",
    "#sns.pairplot(data = df, vars=namarr)\n",
    "#plt.show()\n",
    "bounds = [{'name': 'l1',                'type': 'discrete',    'domain': (50,75,100)},\n",
    "          {'name': 'l1_drop',          'type': 'continuous',  'domain': (0.2, 0.5)},\n",
    "          {'name': 'learn',       'type': 'discrete',    'domain': (1e-2,1e-3,1e-4)}]          "
   ]
  },
  {
   "cell_type": "code",
   "execution_count": 5,
   "metadata": {
    "colab": {
     "base_uri": "https://localhost:8080/",
     "height": 34
    },
    "colab_type": "code",
    "id": "5YhRpUNGE8c-",
    "outputId": "b3bdef42-f88f-4ab6-dbcc-203110b50a4e"
   },
   "outputs": [
    {
     "name": "stdout",
     "output_type": "stream",
     "text": [
      "(610154, 15)\n"
     ]
    }
   ],
   "source": [
    "import time\n",
    "\n",
    "import GPy, GPyOpt\n",
    "import tqdm\n",
    "import sklearn\n",
    "from sklearn import model_selection\n",
    "\n",
    "print(df.shape)\n",
    "X = df.drop(['target'], axis=1).to_numpy()\n",
    "Y = df['target'].to_numpy()\n",
    "#X = sklearn.preprocessing.StandardScaler().fit_transform(X)\n",
    "X = sklearn.preprocessing.MinMaxScaler().fit_transform(X)\n",
    "#Y = np.divide(np.subtract(Y, Y.mean()), Y.std())\n",
    "Y = np.divide(np.subtract(Y, np.min(Y)), np.max(Y)-np.min(Y))\n",
    "Xtest, Xpool, ytest, ypool = sklearn.model_selection.train_test_split(X,Y,test_size=0.7, shuffle=True)\n",
    "#Xptrain, Xptest, yptrain, yptest = model_selection.train_test_split(X,Y,test_size=0.3, shuffle=True)\n",
    "addn=5000\n",
    "order=np.random.permutation(range(len(Xpool)))\n",
    "poolidx=np.arange(len(Xpool),dtype=np.int)\n",
    "ninit = 100000 #initial samples\n",
    "#initial training set\n",
    "trainset=order[:ninit]\n",
    "Xtrain=np.take(Xpool,trainset,axis=0)\n",
    "ytrain=np.take(ypool,trainset,axis=0)\n",
    "#remove data from pool\n",
    "poolidx=np.setdiff1d(poolidx,trainset)"
   ]
  },
  {
   "cell_type": "code",
   "execution_count": 6,
   "metadata": {
    "colab": {
     "base_uri": "https://localhost:8080/",
     "height": 221
    },
    "colab_type": "code",
    "id": "7n-Q2cU6E9jd",
    "outputId": "d0a7faf6-bcbb-407c-f4a0-9838491b3d68"
   },
   "outputs": [
    {
     "name": "stderr",
     "output_type": "stream",
     "text": [
      "\r",
      "  0%|                                                                                            | 0/5 [00:00<?, ?it/s]"
     ]
    },
    {
     "name": "stdout",
     "output_type": "stream",
     "text": [
      "0.1 relu mse <tensorflow.python.keras.optimizer_v2.rmsprop.RMSprop object at 0x000001E00EDA2CC8> 0.001 50\n"
     ]
    },
    {
     "name": "stderr",
     "output_type": "stream",
     "text": [
      "100%|███████████████████████████████████████████████████████████████████████████████████| 5/5 [18:15<00:00, 219.14s/it]\n",
      "100%|███████████████████████████████████████████████████████████████████████████████████| 5/5 [18:23<00:00, 220.65s/it]\n",
      "100%|███████████████████████████████████████████████████████████████████████████████████| 5/5 [17:04<00:00, 204.87s/it]\n",
      "100%|███████████████████████████████████████████████████████████████████████████████████| 5/5 [17:23<00:00, 208.72s/it]\n",
      "100%|███████████████████████████████████████████████████████████████████████████████████| 5/5 [17:40<00:00, 212.20s/it]\n",
      "100%|███████████████████████████████████████████████████████████████████████████████████| 5/5 [17:24<00:00, 208.85s/it]\n",
      "100%|███████████████████████████████████████████████████████████████████████████████████| 5/5 [18:04<00:00, 216.98s/it]\n",
      "100%|███████████████████████████████████████████████████████████████████████████████████| 5/5 [18:19<00:00, 219.92s/it]\n",
      "100%|███████████████████████████████████████████████████████████████████████████████████| 5/5 [19:23<00:00, 232.63s/it]\n",
      "100%|███████████████████████████████████████████████████████████████████████████████████| 5/5 [20:05<00:00, 241.11s/it]\n",
      "100%|███████████████████████████████████████████████████████████████████████████████████| 5/5 [21:42<00:00, 260.53s/it]\n",
      "100%|███████████████████████████████████████████████████████████████████████████████████| 5/5 [20:54<00:00, 250.88s/it]\n",
      "100%|███████████████████████████████████████████████████████████████████████████████████| 5/5 [17:03<00:00, 204.69s/it]\n",
      "100%|███████████████████████████████████████████████████████████████████████████████████| 5/5 [17:40<00:00, 212.10s/it]\n",
      "100%|███████████████████████████████████████████████████████████████████████████████████| 5/5 [18:27<00:00, 221.57s/it]\n",
      "100%|███████████████████████████████████████████████████████████████████████████████████| 5/5 [18:58<00:00, 227.67s/it]\n",
      "100%|███████████████████████████████████████████████████████████████████████████████████| 5/5 [19:06<00:00, 229.37s/it]\n",
      "100%|███████████████████████████████████████████████████████████████████████████████████| 5/5 [18:46<00:00, 225.37s/it]\n",
      "100%|███████████████████████████████████████████████████████████████████████████████████| 5/5 [18:00<00:00, 216.08s/it]\n",
      "100%|███████████████████████████████████████████████████████████████████████████████████| 5/5 [18:22<00:00, 220.40s/it]\n"
     ]
    },
    {
     "name": "stdout",
     "output_type": "stream",
     "text": [
      "[(100000, 0.7510281898914422), (105000, 0.7504504592929085), (110000, 0.7539261232624562), (115000, 0.7478950368585795), (120000, 0.7465696027564012), (125000, 0.7403427128405177), (130000, 0.7466032154268929), (135000, 0.7465282237618069), (140000, 0.7513019722377606), (145000, 0.749502955136172), (150000, 0.746661398180315), (155000, 0.745864111929825), (160000, 0.7495273373569726), (165000, 0.7400991625952033), (170000, 0.7447087304343658), (175000, 0.7375082305060359), (180000, 0.7300444275175212), (185000, 0.7435558994694063), (190000, 0.7338552439311435), (195000, 0.7391816579742535)]\n"
     ]
    },
    {
     "data": {
      "text/plain": [
       "'\\nstart = time.time()\\n\\nopt = GPyOpt.methods.BayesianOptimization(f=qbc, domain=bounds, maximize=True)\\n\\n# optimize model \\nopt.run_optimization(max_iter=5)\\nprint(opt.x_opt, opt.fx_opt)\\nend = time.time()\\nprint(end - start)'"
      ]
     },
     "execution_count": 6,
     "metadata": {},
     "output_type": "execute_result"
    }
   ],
   "source": [
    "def qbc(x):\n",
    "  #reset training set and pool\n",
    "  testacc_qbc=[]\n",
    "  ncomm=5\n",
    "  trainset=order[:ninit]\n",
    "  Xtrain=np.take(Xpool,trainset,axis=0)\n",
    "  ytrain=np.take(ypool,trainset,axis=0)\n",
    "  poolidx=np.arange(len(Xpool),dtype=np.int)\n",
    "  poolidx=np.setdiff1d(poolidx,trainset)\n",
    "  model = getmodel(int(x[0]),  float(x[1]),  int(x[2]), int(x[3]),  int(x[4]),  float(x[5]))\n",
    "\n",
    "  for i in range(20):\n",
    "      ypool_lab=[]\n",
    "      # fit models in committee\n",
    "      std_global = []\n",
    "      for k in tqdm.tqdm(range(ncomm)):\n",
    "          #bootstrapping\n",
    "          Xtr,ytr=sklearn.utils.resample(Xtrain,ytrain)\n",
    "          history = model.fit(Xtr,ytr,batch_size= int(x[6]), epochs= int(x[7]), verbose=0) \n",
    "          pred = []\n",
    "          #predict on test set\n",
    "          for i in range(50):\n",
    "            yhat2 = model.predict(Xpool[poolidx], batch_size= int(x[6]))\n",
    "            pred.append(yhat2)\n",
    "          pred = np.array(np.squeeze(pred)).T\n",
    "          std = []\n",
    "          for rw in pred:\n",
    "            std.append(np.std(rw))\n",
    "          std_global.append(std)\n",
    "          \n",
    "      ypool_p = []\n",
    "      std_global = np.array(std_global).T\n",
    "      for rw in std_global:\n",
    "        ypool_p.append(np.mean(rw))\n",
    "      r2_arr = []\n",
    "      #Refit model in all training data  \n",
    "      history = model.fit(Xtrain,ytrain,batch_size= int(x[6]), epochs= int(x[7]), verbose=0) \n",
    "      for j in range(50):\n",
    "        yhat = model.predict(Xtest, batch_size= int(x[6]))\n",
    "        r2_arr.append(sklearn.metrics.r2_score(ytest,yhat))\n",
    "      eval = np.mean(r2_arr)\n",
    "      testacc_qbc.append((len(Xtrain),eval))\n",
    "      #select sample with maximum disagreement (least confident)\n",
    "      ypool_p_sort_idx = np.argsort(ypool_p) #least confident\n",
    "      #add to training set\n",
    "      Xtrain=np.concatenate((Xtrain,Xpool[poolidx[ypool_p_sort_idx[-addn:]]]))\n",
    "      ytrain=np.concatenate((ytrain,ypool[poolidx[ypool_p_sort_idx[-addn:]]]))\n",
    "      #remove from pool\n",
    "      poolidx=np.setdiff1d(poolidx,ypool_p_sort_idx[-addn:])\n",
    "\n",
    "  return model, testacc_qbc\n",
    "\n",
    "model, test = qbc([5.00e+01, 1.00e-01, 1.00e+00, 3.00e+00, 1.00e+00, 1.00e-03, 1.28e+02, 3.80e+01])\n",
    "print(test)\n",
    "model.save('qbc.h5')\n",
    "\"\"\"\n",
    "start = time.time()\n",
    "\n",
    "opt = GPyOpt.methods.BayesianOptimization(f=qbc, domain=bounds, maximize=True)\n",
    "\n",
    "# optimize model \n",
    "opt.run_optimization(max_iter=5)\n",
    "print(opt.x_opt, opt.fx_opt)\n",
    "end = time.time()\n",
    "print(end - start)\"\"\""
   ]
  },
  {
   "cell_type": "code",
   "execution_count": 9,
   "metadata": {
    "colab": {
     "base_uri": "https://localhost:8080/",
     "height": 278
    },
    "colab_type": "code",
    "id": "vb4JRDxzGDAL",
    "outputId": "eafe42e6-2a18-496c-be81-200411b619a9"
   },
   "outputs": [
    {
     "data": {
      "image/png": "[encoded data removed]",
      "text/plain": [
       "<Figure size 432x288 with 1 Axes>"
      ]
     },
     "metadata": {
      "needs_background": "light"
     },
     "output_type": "display_data"
    }
   ],
   "source": [
    "plt.plot(*tuple(np.array(test).T));"
   ]
  },
  {
   "cell_type": "code",
   "execution_count": null,
   "metadata": {
    "colab": {},
    "colab_type": "code",
    "id": "51eTl_9QORym"
   },
   "outputs": [],
   "source": []
  }
 ],
 "metadata": {
  "accelerator": "GPU",
  "colab": {
   "collapsed_sections": [],
   "name": "qbc.ipynb",
   "provenance": []
  },
  "kernelspec": {
   "display_name": "Python 3",
   "language": "python",
   "name": "python3"
  },
  "language_info": {
   "codemirror_mode": {
    "name": "ipython",
    "version": 3
   },
   "file_extension": ".py",
   "mimetype": "text/x-python",
   "name": "python",
   "nbconvert_exporter": "python",
   "pygments_lexer": "ipython3",
   "version": "3.7.6"
  }
 },
 "nbformat": 4,
 "nbformat_minor": 1
}
