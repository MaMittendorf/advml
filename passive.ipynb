{
 "cells": [
  {
   "cell_type": "code",
   "execution_count": null,
   "metadata": {
    "colab": {
     "base_uri": "https://localhost:8080/",
     "height": 1000
    },
    "colab_type": "code",
    "id": "bTRE9bgcDawa",
    "outputId": "e4ce9b61-da3f-4ea1-c9c3-a1f9cb190928",
    "scrolled": true
   },
   "outputs": [],
   "source": [
    "from __future__ import print_function\n",
    "import tensorflow as tf\n",
    "from tensorflow.keras.layers import Input\n",
    "from tensorflow.keras.utils import plot_model\n",
    "from tensorflow.keras.models import Sequential\n",
    "from sklearn.model_selection import train_test_split\n",
    "from tensorflow.keras.layers import Dense, Dropout, Activation, Flatten, TimeDistributed, multiply, Lambda, InputLayer\n",
    "from tensorflow.keras.layers import LSTM, GRU, LeakyReLU, BatchNormalization, ReLU, concatenate, Masking, Permute, Reshape\n",
    "from tensorflow.keras.layers import Conv1D, Conv2D, MaxPooling1D, RepeatVector,Bidirectional, GlobalAveragePooling1D\n",
    "from tensorflow.keras.callbacks import ModelCheckpoint, ReduceLROnPlateau, CSVLogger, EarlyStopping\n",
    "from tensorflow.keras import regularizers\n",
    "from tensorflow.keras.layers import BatchNormalization\n",
    "from tensorflow.keras.optimizers import RMSprop, Adam, SGD, Nadam\n",
    "from tensorflow.keras.initializers import *\n",
    "from tensorflow.keras import Model\n",
    "import numpy as np\n",
    "import pandas as pd\n",
    "from sklearn.metrics import r2_score\n",
    "import seaborn as sns\n",
    "import matplotlib.pyplot as plt\n",
    "plt.style.use(\"ggplot\")\n",
    "%matplotlib inline\n",
    "\n",
    "np.random.seed(73) \n",
    "\n",
    "\n",
    "def getmodel(n1, dp1, ac, opt, los, learn):\n",
    "  mcdp = True\n",
    "  \n",
    "  if ac == 1:\n",
    "    ac = 'relu'\n",
    "  elif ac ==2:\n",
    "    ac = 'selu'\n",
    "  else: \n",
    "    ac = 'elu'\n",
    "\n",
    "  if los ==1:\n",
    "    loss = 'mse'\n",
    "  elif los ==2:\n",
    "    loss = 'mae'\n",
    "  else: \n",
    "    loss = 'huber'\n",
    "  \n",
    "  if opt == 1:\n",
    "    opt = Adam(lr=learn)\n",
    "  elif opt == 2:\n",
    "    opt = Nadam(lr=learn)\n",
    "  else: \n",
    "    opt = RMSprop(lr = learn)\n",
    "  input = Input(shape=(14,))\n",
    "  dense = Dense(n1, activation=ac)(input)\n",
    "  dense = Dropout(dp1)(dense, training=mcdp)\n",
    "  dense = Dense(n1,activation=ac)(dense)\n",
    "  dense = Dropout(dp1)(dense, training=mcdp)\n",
    "  dense = Dense(n1,activation=ac)(dense)\n",
    "  dense = Dropout(dp1)(dense, training=mcdp)\n",
    "  output1 = Dense(1, activation='linear')(dense)\n",
    "\n",
    "  model = Model(inputs= input, outputs=output1)\n",
    "  #plot_model(model, to_file='model_plot.png', show_shapes=True, show_layer_names=True)\n",
    "\n",
    "  #model.summary()\n",
    "  print(dp1, ac, loss, opt, learn, n1)\n",
    "  model.compile(optimizer=opt, loss=loss)\n",
    "  return model \n"
   ]
  },
  {
   "cell_type": "code",
   "execution_count": null,
   "metadata": {
    "colab": {
     "base_uri": "https://localhost:8080/",
     "height": 34
    },
    "colab_type": "code",
    "id": "GYyfHtWHNB5u",
    "outputId": "c83f1396-73cd-4a97-edd5-a87112ca0c4e"
   },
   "outputs": [
    {
     "name": "stdout",
     "output_type": "stream",
     "text": [
      "(1220307, 15)\n"
     ]
    }
   ],
   "source": [
    "def remove_outlier(df_in, col_name):\n",
    "  q1 = df_in[col_name].quantile(0.15)\n",
    "  q3 = df_in[col_name].quantile(0.85)\n",
    "  iqr = q3-q1 #Interquantile range\n",
    "  fence_low  = q1-1.5*iqr\n",
    "  fence_high = q3+1.5*iqr\n",
    "  df_out = df_in.loc[(df_in[col_name] > fence_low) & (df_in[col_name] < fence_high)]\n",
    "  return df_out\n",
    "\n",
    "df = pd.read_csv('ropaxdata.csv', sep=',')\n",
    "namarr = ['target','fuelDensity.csv','fuelTemp.csv','inclinometer-raw.csv', 'longitudinalWaterSpeed.csv','level1median.csv','level2median.csv', 'portPitch.csv', 'portRudder.csv','speedKnots.csv','starboardPitch.csv', 'starboardRudder.csv','trueHeading.csv', 'windAngle.csv', 'windSpeed.csv']\n",
    "df.dropna(inplace=True)\n",
    "df = df[namarr]\n",
    "#print(df.isnull().sum())\n",
    "\n",
    "for nam in namarr: \n",
    "  df = remove_outlier(df,nam)\n",
    "print(df.shape)\n",
    "df = df.sample(frac=0.5, replace=False, random_state=42, axis=0)\n",
    "#sns.pairplot(data = df, vars=namarr)\n",
    "#plt.show()\n",
    "bounds = [{'name': 'l1',                'type': 'discrete',    'domain': (50,75,100)},\n",
    "          {'name': 'l1_drop',          'type': 'continuous',  'domain': (0.1, 0.3)},\n",
    "          {'name': 'activation',                'type': 'discrete',    'domain': (1,2,3)},\n",
    "          {'name': 'optimizer',                'type': 'discrete',    'domain': (1,2,3)},\n",
    "          {'name': 'loss',                'type': 'discrete',    'domain': (1,2)},\n",
    "          {'name': 'learn',       'type': 'discrete',    'domain': (1e-2,1e-3,1e-4)},\n",
    "          {'name': 'batchsize',                'type': 'discrete',    'domain': (32,64,128)},\n",
    "          {'name': 'epochs',                'type': 'discrete',    'domain': (25,38,50)}]          "
   ]
  },
  {
   "cell_type": "code",
   "execution_count": null,
   "metadata": {
    "colab": {
     "base_uri": "https://localhost:8080/",
     "height": 765
    },
    "colab_type": "code",
    "id": "9L075fm-F3_E",
    "outputId": "7a351da3-3ad3-4c9a-8130-274763bd8787"
   },
   "outputs": [
    {
     "name": "stdout",
     "output_type": "stream",
     "text": [
      "(427107, 14) (427107,)\n",
      "0.1946947820699229 selu mae <tensorflow.python.keras.optimizer_v2.rmsprop.RMSprop object at 0x7ff089426ba8> 0.001 100\n"
     ]
    },
    {
     "name": "stderr",
     "output_type": "stream",
     "text": [
      "100%|██████████| 50/50 [03:30<00:00,  4.21s/it]\n"
     ]
    },
    {
     "name": "stdout",
     "output_type": "stream",
     "text": [
      "0.6660766326132693\n",
      "0.19441915236627683 selu mae <tensorflow.python.keras.optimizer_v2.adam.Adam object at 0x7ff083ce9748> 0.0001 75\n"
     ]
    },
    {
     "name": "stderr",
     "output_type": "stream",
     "text": [
      "100%|██████████| 50/50 [01:48<00:00,  2.16s/it]\n"
     ]
    },
    {
     "name": "stdout",
     "output_type": "stream",
     "text": [
      "0.7283985360282272\n",
      "0.26447286560528893 relu mae <tensorflow.python.keras.optimizer_v2.nadam.Nadam object at 0x7ff08addd240> 0.01 75\n"
     ]
    },
    {
     "name": "stderr",
     "output_type": "stream",
     "text": [
      "100%|██████████| 50/50 [00:54<00:00,  1.09s/it]\n"
     ]
    },
    {
     "name": "stdout",
     "output_type": "stream",
     "text": [
      "0.598580491748943\n",
      "0.1587164847220895 elu mae <tensorflow.python.keras.optimizer_v2.nadam.Nadam object at 0x7ff08456ec18> 0.01 75\n"
     ]
    },
    {
     "name": "stderr",
     "output_type": "stream",
     "text": [
      "100%|██████████| 50/50 [03:31<00:00,  4.22s/it]\n"
     ]
    },
    {
     "name": "stdout",
     "output_type": "stream",
     "text": [
      "-1.168891949964557\n",
      "0.27559054759114887 relu mse <tensorflow.python.keras.optimizer_v2.rmsprop.RMSprop object at 0x7ff0827f2ba8> 0.001 50\n"
     ]
    },
    {
     "name": "stderr",
     "output_type": "stream",
     "text": [
      "100%|██████████| 50/50 [00:54<00:00,  1.09s/it]\n"
     ]
    },
    {
     "name": "stdout",
     "output_type": "stream",
     "text": [
      "0.7208308616124077\n",
      "0.3 selu mse <tensorflow.python.keras.optimizer_v2.adam.Adam object at 0x7ff084f8f6d8> 0.01 75\n"
     ]
    },
    {
     "name": "stderr",
     "output_type": "stream",
     "text": [
      "100%|██████████| 50/50 [01:46<00:00,  2.12s/it]\n"
     ]
    },
    {
     "name": "stdout",
     "output_type": "stream",
     "text": [
      "-0.893702534631631\n",
      "0.15734596028716777 selu mae <tensorflow.python.keras.optimizer_v2.adam.Adam object at 0x7ff084eefcf8> 0.01 75\n"
     ]
    },
    {
     "name": "stderr",
     "output_type": "stream",
     "text": [
      "100%|██████████| 50/50 [01:44<00:00,  2.10s/it]\n"
     ]
    },
    {
     "name": "stdout",
     "output_type": "stream",
     "text": [
      "0.5918372296836428\n",
      "0.282163672314135 relu mse <tensorflow.python.keras.optimizer_v2.rmsprop.RMSprop object at 0x7ff083b58898> 0.001 50\n"
     ]
    },
    {
     "name": "stderr",
     "output_type": "stream",
     "text": [
      "100%|██████████| 50/50 [00:53<00:00,  1.08s/it]\n"
     ]
    },
    {
     "name": "stdout",
     "output_type": "stream",
     "text": [
      "0.7156220534933526\n",
      "0.1 relu mse <tensorflow.python.keras.optimizer_v2.rmsprop.RMSprop object at 0x7ff0850102e8> 0.001 50\n"
     ]
    },
    {
     "name": "stderr",
     "output_type": "stream",
     "text": [
      "100%|██████████| 50/50 [00:53<00:00,  1.08s/it]\n"
     ]
    },
    {
     "name": "stdout",
     "output_type": "stream",
     "text": [
      "0.7566675646738646\n",
      "0.10133626898080346 relu mse <tensorflow.python.keras.optimizer_v2.nadam.Nadam object at 0x7ff08addd208> 0.001 50\n"
     ]
    },
    {
     "name": "stderr",
     "output_type": "stream",
     "text": [
      "100%|██████████| 50/50 [00:54<00:00,  1.09s/it]\n"
     ]
    },
    {
     "name": "stdout",
     "output_type": "stream",
     "text": [
      "0.7563181483285252\n",
      "0.3 selu mae <tensorflow.python.keras.optimizer_v2.adam.Adam object at 0x7ff084ff2898> 0.0001 75\n"
     ]
    },
    {
     "name": "stderr",
     "output_type": "stream",
     "text": [
      "100%|██████████| 50/50 [01:45<00:00,  2.12s/it]\n"
     ]
    },
    {
     "name": "stdout",
     "output_type": "stream",
     "text": [
      "0.7190381877872041\n",
      "0.12599789032064643 relu mse <tensorflow.python.keras.optimizer_v2.rmsprop.RMSprop object at 0x7ff08285e588> 0.001 50\n"
     ]
    },
    {
     "name": "stderr",
     "output_type": "stream",
     "text": [
      "100%|██████████| 50/50 [00:54<00:00,  1.09s/it]\n"
     ]
    },
    {
     "name": "stdout",
     "output_type": "stream",
     "text": [
      "0.7491233877356358\n",
      "0.1 relu mse <tensorflow.python.keras.optimizer_v2.rmsprop.RMSprop object at 0x7ff08285e550> 0.001 50\n"
     ]
    },
    {
     "name": "stderr",
     "output_type": "stream",
     "text": [
      "100%|██████████| 50/50 [00:55<00:00,  1.12s/it]\n"
     ]
    },
    {
     "name": "stdout",
     "output_type": "stream",
     "text": [
      "0.7479587350515944\n",
      "0.1 relu mse <tensorflow.python.keras.optimizer_v2.rmsprop.RMSprop object at 0x7ff08935c0b8> 0.001 50\n"
     ]
    },
    {
     "name": "stderr",
     "output_type": "stream",
     "text": [
      "100%|██████████| 50/50 [00:55<00:00,  1.12s/it]\n"
     ]
    },
    {
     "name": "stdout",
     "output_type": "stream",
     "text": [
      "0.740268800528561\n",
      "[5.00e+01 1.00e-01 1.00e+00 3.00e+00 1.00e+00 1.00e-03 1.28e+02 3.80e+01] -0.7566675646738646\n"
     ]
    }
   ],
   "source": [
    "import GPy, GPyOpt\n",
    "import tqdm\n",
    "import sklearn\n",
    "from sklearn import model_selection\n",
    "X = df.drop(['target'], axis=1).to_numpy()\n",
    "Y = df['target'].to_numpy()\n",
    "#X = sklearn.preprocessing.StandardScaler().fit_transform(X)\n",
    "X = sklearn.preprocessing.MinMaxScaler().fit_transform(X)\n",
    "#Y = np.divide(np.subtract(Y, Y.mean()), Y.std())\n",
    "Y = np.divide(np.subtract(Y, np.min(Y)), np.max(Y)-np.min(Y))\n",
    "Xtest, Xpool, ytest, ypool = sklearn.model_selection.train_test_split(X,Y,test_size=0.7, shuffle=True)\n",
    "Xptrain, Xptest, yptrain, yptest = model_selection.train_test_split(X,Y,test_size=0.3, shuffle=True)\n",
    "\n",
    "print(Xptrain.shape, yptrain.shape)\n",
    "\n",
    "##def getmodel(hidden, n1, n2,dp1, dp2, mcdp,bs, ep,  ac, opt, learn, loss)\n",
    "\n",
    "def passivelearn(x): \n",
    "  model = getmodel(int(x[:,0]),  float(x[:,1]),  int(x[:,2]), int(x[:,3]),  int(x[:,4]),  float(x[:,5]))\n",
    "  #def getmodel(n1, n2,dp1, dp2, mcdp, op, learn):\n",
    "  history = model.fit(Xptrain,yptrain,batch_size=int(x[:,6]),  epochs=int(x[:,7]), verbose=0) \n",
    "  r2_arr = []\n",
    "  for i in tqdm.tqdm(range(50)):\n",
    "    yhat = model.predict(Xptest, batch_size=int(x[:,6]))\n",
    "    r2_arr.append(sklearn.metrics.r2_score(yptest,yhat))\n",
    "  eval = np.mean(r2_arr)\n",
    "  print(eval)\n",
    "  return eval\n",
    "\n",
    "\n",
    "opt = GPyOpt.methods.BayesianOptimization(f=passivelearn, model_type='GP', domain=bounds, maximize=True)\n",
    "\n",
    "# optimize mnist model\n",
    "opt.run_optimization(max_iter=10)\n",
    "print(opt.x_opt, opt.fx_opt)\n",
    "\n",
    "opt.plot_acquisition()\n"
   ]
  },
  {
   "cell_type": "code",
   "execution_count": null,
   "metadata": {
    "colab": {},
    "colab_type": "code",
    "id": "Dlz8Wpt0An0b"
   },
   "outputs": [],
   "source": []
  }
 ],
 "metadata": {
  "accelerator": "GPU",
  "colab": {
   "collapsed_sections": [],
   "name": "passive.ipynb",
   "provenance": []
  },
  "kernelspec": {
   "display_name": "Python 3",
   "language": "python",
   "name": "python3"
  },
  "language_info": {
   "codemirror_mode": {
    "name": "ipython",
    "version": 3
   },
   "file_extension": ".py",
   "mimetype": "text/x-python",
   "name": "python",
   "nbconvert_exporter": "python",
   "pygments_lexer": "ipython3",
   "version": "3.7.6"
  }
 },
 "nbformat": 4,
 "nbformat_minor": 1
}
